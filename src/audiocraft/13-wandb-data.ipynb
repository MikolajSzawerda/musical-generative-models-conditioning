{
 "cells": [
  {
   "cell_type": "code",
   "execution_count": null,
   "metadata": {},
   "outputs": [],
   "source": [
    "import pandas as pd \n",
    "import wandb\n",
    "api = wandb.Api()\n",
    "\n",
    "# Project is specified by <entity/project-name>\n",
    "runs = api.runs(\"mszawerd-politechnika-warszawska/debug\")\n",
    "\n",
    "summary_list, config_list, name_list, history = [], [], [], []\n",
    "for run in runs: \n",
    "    if run.name != 'radiant-sweep-16':\n",
    "        continue\n",
    "    # .summary contains the output keys/values for metrics like accuracy.\n",
    "    #  We call ._json_dict to omit large files \n",
    "    summary_list.append(run.summary._json_dict)\n",
    "\n",
    "    # .config contains the hyperparameters.\n",
    "    #  We remove special values that start with _.\n",
    "    config_list.append(\n",
    "        {k: v for k,v in run.config.items()\n",
    "          if not k.startswith('_')})\n",
    "\n",
    "    # .name is the human-readable name of the run.\n",
    "    name_list.append(run.name)\n",
    "    history.append([])\n",
    "    run.history(pandas=True).to_json('data.json', indent=4)\n",
    "\n",
    "runs_df = pd.DataFrame({\n",
    "    \"summary\": summary_list,\n",
    "    \"config\": config_list,\n",
    "    \"name\": name_list,\n",
    "    \"history\": history\n",
    "    })\n"
   ]
  },
  {
   "cell_type": "code",
   "execution_count": null,
   "metadata": {},
   "outputs": [],
   "source": [
    "import json\n",
    "with open('a.txt', 'w') as fh:\n",
    "    json.dump([x for x in run.scan_history()], fh, indent=4)"
   ]
  },
  {
   "cell_type": "code",
   "execution_count": 27,
   "metadata": {},
   "outputs": [],
   "source": [
    "import wandb\n",
    "from tqdm import tqdm\n",
    "from tools.project import RAW_PATH\n",
    "USER_NAME = 'mszawerd-politechnika-warszawska'\n",
    "\n",
    "api = wandb.Api()\n",
    "\n",
    "def get_sweep_runs(project: str, sweep_id: str):\n",
    "    sweep_path = f\"{USER_NAME}/{project}/{sweep_id}\"\n",
    "    sweep = api.sweep(sweep_path)\n",
    "    return sweep.runs\n",
    "runs = get_sweep_runs('textual-musicgen-small', '4k5q7co8')\n",
    "# artifact = api.artifact(\"mszawerd-politechnika-warszawska/debug/run-1b4mmwpt-history:v0\")\n",
    "# artifact = api.artifact(\"mszawerd-politechnika-warszawska/debug/run-1b4mmwpt-history:v0\")"
   ]
  },
  {
   "cell_type": "code",
   "execution_count": 32,
   "metadata": {},
   "outputs": [
    {
     "name": "stderr",
     "output_type": "stream",
     "text": [
      "  0%|          | 0/12 [00:00<?, ?it/s]\u001b[34m\u001b[1mwandb\u001b[0m:   1 of 1 files downloaded.  \n",
      "  8%|▊         | 1/12 [00:00<00:09,  1.10it/s]\u001b[34m\u001b[1mwandb\u001b[0m:   1 of 1 files downloaded.  \n",
      " 17%|█▋        | 2/12 [00:01<00:09,  1.11it/s]\u001b[34m\u001b[1mwandb\u001b[0m:   1 of 1 files downloaded.  \n",
      " 25%|██▌       | 3/12 [00:02<00:08,  1.11it/s]\u001b[34m\u001b[1mwandb\u001b[0m:   1 of 1 files downloaded.  \n",
      " 33%|███▎      | 4/12 [00:03<00:07,  1.11it/s]\u001b[34m\u001b[1mwandb\u001b[0m:   1 of 1 files downloaded.  \n",
      " 42%|████▏     | 5/12 [00:04<00:06,  1.11it/s]\u001b[34m\u001b[1mwandb\u001b[0m:   1 of 1 files downloaded.  \n",
      " 50%|█████     | 6/12 [00:05<00:05,  1.12it/s]\u001b[34m\u001b[1mwandb\u001b[0m:   1 of 1 files downloaded.  \n",
      " 58%|█████▊    | 7/12 [00:06<00:05,  1.09s/it]\u001b[34m\u001b[1mwandb\u001b[0m:   1 of 1 files downloaded.  \n",
      " 67%|██████▋   | 8/12 [00:07<00:04,  1.03s/it]\u001b[34m\u001b[1mwandb\u001b[0m:   1 of 1 files downloaded.  \n",
      " 75%|███████▌  | 9/12 [00:08<00:02,  1.02it/s]\u001b[34m\u001b[1mwandb\u001b[0m:   1 of 1 files downloaded.  \n",
      " 83%|████████▎ | 10/12 [00:09<00:01,  1.05it/s]\u001b[34m\u001b[1mwandb\u001b[0m:   1 of 1 files downloaded.  \n",
      " 92%|█████████▏| 11/12 [00:10<00:00,  1.08it/s]\u001b[34m\u001b[1mwandb\u001b[0m:   1 of 1 files downloaded.  \n",
      "100%|██████████| 12/12 [00:11<00:00,  1.06it/s]\n"
     ]
    }
   ],
   "source": [
    "import pandas as pd\n",
    "\n",
    "stats = {}\n",
    "\n",
    "def extract_data(path: str):\n",
    "    df = pd.read_parquet(path)\n",
    "    fad_columns = [col for col in df.columns if col.startswith(\"FAD \")]\n",
    "    fad_dict = {\n",
    "    f\"fad_{col.split(' ')[1].lower()}\": df[col].dropna().tolist()\n",
    "    for col in fad_columns\n",
    "}\n",
    "    fad_dict.update({\n",
    "        'fad_avg': list(df['fad_avg'].dropna().values),\n",
    "\n",
    "    })\n",
    "    return fad_dict\n",
    "\n",
    "def download_artifacts(project: str, runs):\n",
    "    for run in tqdm(runs):\n",
    "        run_id = run.id\n",
    "        artifact_name = f\"{USER_NAME}/{project}/run-{run_id}-history:v0\"\n",
    "        try:\n",
    "            artifact = api.artifact(artifact_name)\n",
    "            artifact_dir = artifact.download(RAW_PATH('runs', run_id))\n",
    "            stats[run_id] = {\n",
    "                'params': run.config,\n",
    "                'stats': extract_data(RAW_PATH('runs', run_id, '0000.parquet'))\n",
    "                }\n",
    "            \n",
    "        except Exception as e:\n",
    "            print(f\"Error downloading artifact for run {run}: {str(e)}\")\n",
    "download_artifacts('textual-musicgen-small', runs)\n",
    "with open(RAW_PATH('run_stats', 'stats.json'), 'w') as fh:\n",
    "    import json\n",
    "    json.dump(stats, fh, indent=4)"
   ]
  },
  {
   "cell_type": "code",
   "execution_count": null,
   "metadata": {},
   "outputs": [],
   "source": [
    "import wandb\n",
    "run = wandb.init()\n",
    "\n",
    "art_dir = run.use_artifact('mszawerd-politechnika-warszawska/debug/run-1b4mmwpt-history:v0').download()"
   ]
  },
  {
   "cell_type": "code",
   "execution_count": null,
   "metadata": {},
   "outputs": [],
   "source": [
    "df = pd.read_parquet('/home/mszawerda/musical-generative-models-conditioning/src/audiocraft/artifacts/run-1b4mmwpt-history:v0/0000.parquet')"
   ]
  },
  {
   "cell_type": "code",
   "execution_count": null,
   "metadata": {},
   "outputs": [],
   "source": [
    "concept = 'metal-solos'\n",
    "\n",
    "df[df[f'FAD {concept}'].notnull()][f'FAD {concept}']"
   ]
  },
  {
   "cell_type": "code",
   "execution_count": null,
   "metadata": {},
   "outputs": [],
   "source": [
    "import torch"
   ]
  },
  {
   "cell_type": "code",
   "execution_count": null,
   "metadata": {},
   "outputs": [],
   "source": [
    "torch.load(\"/home/mszawerda/musical-generative-models-conditioning/models/concepts-dataset/giddy-sweep-1-best.pt\").keys()"
   ]
  }
 ],
 "metadata": {
  "kernelspec": {
   "display_name": "musicgen-ufgTm-Qc-py3.10",
   "language": "python",
   "name": "python3"
  },
  "language_info": {
   "codemirror_mode": {
    "name": "ipython",
    "version": 3
   },
   "file_extension": ".py",
   "mimetype": "text/x-python",
   "name": "python",
   "nbconvert_exporter": "python",
   "pygments_lexer": "ipython3",
   "version": "3.10.12"
  }
 },
 "nbformat": 4,
 "nbformat_minor": 2
}
