{
 "cells": [
  {
   "cell_type": "code",
   "execution_count": null,
   "metadata": {},
   "outputs": [],
   "source": []
  }
 ],
 "metadata": {
  "kernelspec": {
   "display_name": "Python Audiocraft",
   "language": "python",
   "name": "audiocraft_lab"
  }
 },
 "nbformat": 4,
 "nbformat_minor": 2
}
