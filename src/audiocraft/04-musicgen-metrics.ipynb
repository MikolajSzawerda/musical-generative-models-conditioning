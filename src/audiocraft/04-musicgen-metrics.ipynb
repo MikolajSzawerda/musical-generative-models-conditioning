{
 "cells": [
  {
   "cell_type": "code",
   "metadata": {},
   "source": [
    "from tools.project import INPUT_PATH, LOGS_PATH, OUTPUT_PATH, RAW_PATH\n",
    "import torch\n",
    "from audiocraft.data.audio import audio_read, audio_write\n",
    "from audiocraft.data.audio_utils import convert_audio_channels, convert_audio\n",
    "import numpy as np\n",
    "from audioldm_eval.metrics.fad import FrechetAudioDistance\n",
    "import os\n",
    "from fadtk.fad import FrechetAudioDistance\n",
    "from fadtk.model_loader import CLAPLaionModel\n",
    "from fadtk.fad_batch import cache_embedding_files\n",
    "DEVICE = torch.device(\"cuda\" if torch.cuda.is_available() else 'cpu')\n",
    "EXAMPLES_LEN = 5\n",
    "torch.cuda.is_available()"
   ],
   "outputs": [],
   "execution_count": null
  },
  {
   "cell_type": "code",
   "metadata": {},
   "source": [
    "model = CLAPLaionModel('music')\n",
    "cache_embedding_files('fma-pop', model)\n",
    "cache_embedding_files('/Users/mszawerda/UniProjects/musical-generative-models-conditioning/data/output/textual-inversion-v3/cluster_0/temp', model)\n",
    "fad = FrechetAudioDistance(model, audio_load_worker=8, load_model=False)"
   ],
   "outputs": [],
   "execution_count": null
  },
  {
   "metadata": {},
   "cell_type": "code",
   "source": "fad.score('fma-pop', '/Users/mszawerda/UniProjects/musical-generative-models-conditioning/data/output/textual-inversion-v3/cluster_0/temp')",
   "outputs": [],
   "execution_count": null
  },
  {
   "cell_type": "code",
   "metadata": {},
   "source": [
    "res=model.generate([f\"music in the style of jazz song\"]*5, progress=True)\n",
    "for a_idx in range(res.shape[0]):\n",
    "    music = res[a_idx].cpu()\n",
    "    music = music/np.max(np.abs(music.numpy()))\n",
    "    path = OUTPUT_PATH(\"textual-inversion\", 'metal', 'temp', f'music_p{a_idx}')\n",
    "    audio_write(path, music, model.cfg.sample_rate)"
   ],
   "outputs": [],
   "execution_count": null
  }
 ],
 "metadata": {
  "kernelspec": {
   "display_name": "musicgen-ufgTm-Qc-py3.10",
   "language": "python",
   "name": "python3"
  },
  "language_info": {
   "codemirror_mode": {
    "name": "ipython",
    "version": 3
   },
   "file_extension": ".py",
   "mimetype": "text/x-python",
   "name": "python",
   "nbconvert_exporter": "python",
   "pygments_lexer": "ipython3",
   "version": "3.10.12"
  }
 },
 "nbformat": 4,
 "nbformat_minor": 2
}
