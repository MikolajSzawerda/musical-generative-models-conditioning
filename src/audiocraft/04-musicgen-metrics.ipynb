{
 "cells": [
  {
   "cell_type": "code",
   "execution_count": 24,
   "metadata": {},
   "outputs": [
    {
     "data": {
      "text/plain": [
       "True"
      ]
     },
     "execution_count": 24,
     "metadata": {},
     "output_type": "execute_result"
    }
   ],
   "source": [
    "from src.util_tools import compute_cross_entropy, compute_ortho_loss\n",
    "from tools.project import INPUT_PATH, LOGS_PATH, OUTPUT_PATH\n",
    "\n",
    "import audiocraft\n",
    "from audiocraft.models import MusicGen\n",
    "from audiocraft.utils.notebook import display_audio\n",
    "import torch\n",
    "from gradio.cli.commands.components.publish import colors\n",
    "from omegaconf import DictConfig\n",
    "from torch import set_grad_enabled\n",
    "from torch.onnx.symbolic_opset9 import tensor\n",
    "from torchviz import make_dot\n",
    "import typing as tp\n",
    "from audiocraft.modules.conditioners import ConditioningAttributes\n",
    "import tqdm\n",
    "import torch\n",
    "from audiocraft.data.audio import audio_read, audio_write\n",
    "from audiocraft.data.audio_utils import convert_audio_channels, convert_audio\n",
    "import umap\n",
    "import matplotlib.pyplot as plt\n",
    "import numpy as np\n",
    "import matplotlib.cm as cm\n",
    "import matplotlib.colors as mcolors\n",
    "from torch.utils.tensorboard import SummaryWriter\n",
    "from sklearn.decomposition import PCA\n",
    "from random import shuffle\n",
    "from torch.utils.data import TensorDataset, random_split, DataLoader\n",
    "from audioldm_eval.metrics.fad import FrechetAudioDistance\n",
    "import os\n",
    "DEVICE = torch.device(\"cuda\" if torch.cuda.is_available() else 'cpu')\n",
    "EXAMPLES_LEN = 5\n",
    "torch.cuda.is_available()"
   ]
  },
  {
   "cell_type": "code",
   "execution_count": 8,
   "metadata": {},
   "outputs": [
    {
     "name": "stderr",
     "output_type": "stream",
     "text": [
      "Using cache found in /home/mszawerda/.cache/torch/hub/harritaylor_torchvggish_master\n",
      "/home/mszawerda/.cache/pypoetry/virtualenvs/musicgen-ufgTm-Qc-py3.10/lib/python3.10/site-packages/torch/nn/utils/weight_norm.py:30: UserWarning: torch.nn.utils.weight_norm is deprecated in favor of torch.nn.utils.parametrizations.weight_norm.\n",
      "  warnings.warn(\"torch.nn.utils.weight_norm is deprecated in favor of torch.nn.utils.parametrizations.weight_norm.\")\n"
     ]
    }
   ],
   "source": [
    "fad = FrechetAudioDistance(verbose=True)\n",
    "model = MusicGen.get_pretrained('facebook/musicgen-small')\n",
    "model.set_generation_params(\n",
    "\tuse_sampling=True,\n",
    "\ttop_k=250,\n",
    "\tduration=EXAMPLES_LEN\n",
    ")"
   ]
  },
  {
   "cell_type": "code",
   "execution_count": 4,
   "metadata": {},
   "outputs": [
    {
     "name": "stdout",
     "output_type": "stream",
     "text": [
      "Reload fad_generated_folder_cache /home/mszawerda/musical-generative-models-conditioning/data/input/textual-inversion/metal_fad_fad_feature_cache.npy\n",
      "Loading data to RAM\n"
     ]
    },
    {
     "name": "stderr",
     "output_type": "stream",
     "text": [
      "100%|██████████| 14/14 [00:00<00:00, 54.18it/s]\n",
      "100%|██████████| 14/14 [00:00<00:00, 237.22it/s]\n"
     ]
    },
    {
     "data": {
      "text/plain": [
       "{'frechet_audio_distance': 30.598606179254183}"
      ]
     },
     "execution_count": 4,
     "metadata": {},
     "output_type": "execute_result"
    }
   ],
   "source": []
  },
  {
   "cell_type": "code",
   "execution_count": 30,
   "metadata": {},
   "outputs": [
    {
     "name": "stdout",
     "output_type": "stream",
     "text": [
      "   253 /    253\r"
     ]
    }
   ],
   "source": [
    "res=model.generate([f\"music in the style of jazz song\"]*5, progress=True)\n",
    "for a_idx in range(res.shape[0]):\n",
    "    music = res[a_idx].cpu()\n",
    "    music = music/np.max(np.abs(music.numpy()))\n",
    "    path = OUTPUT_PATH(\"textual-inversion\", 'metal', 'temp', f'music_p{a_idx}')\n",
    "    audio_write(path, music, model.cfg.sample_rate)"
   ]
  },
  {
   "cell_type": "code",
   "execution_count": 33,
   "metadata": {},
   "outputs": [
    {
     "name": "stdout",
     "output_type": "stream",
     "text": [
      "Reload fad_generated_folder_cache /home/mszawerda/musical-generative-models-conditioning/data/input/textual-inversion/metal_fad_fad_feature_cache.npy\n",
      "Loading data to RAM\n"
     ]
    },
    {
     "name": "stderr",
     "output_type": "stream",
     "text": [
      "100%|██████████| 5/5 [00:00<00:00, 20.77it/s]\n",
      "100%|██████████| 5/5 [00:00<00:00, 258.63it/s]\n"
     ]
    },
    {
     "data": {
      "text/plain": [
       "14.55249079201133"
      ]
     },
     "execution_count": 33,
     "metadata": {},
     "output_type": "execute_result"
    }
   ],
   "source": [
    "fd_score = fad.score(INPUT_PATH('textual-inversion', 'metal_fad'), OUTPUT_PATH(\"textual-inversion\", 'metal', 'temp'))\n",
    "os.remove(OUTPUT_PATH(\"textual-inversion\", 'metal', 'temp_fad_feature_cache.npy'))\n",
    "list(fd_score.values())[0]"
   ]
  }
 ],
 "metadata": {
  "kernelspec": {
   "display_name": "musicgen-ufgTm-Qc-py3.10",
   "language": "python",
   "name": "python3"
  },
  "language_info": {
   "codemirror_mode": {
    "name": "ipython",
    "version": 3
   },
   "file_extension": ".py",
   "mimetype": "text/x-python",
   "name": "python",
   "nbconvert_exporter": "python",
   "pygments_lexer": "ipython3",
   "version": "3.10.12"
  }
 },
 "nbformat": 4,
 "nbformat_minor": 2
}
