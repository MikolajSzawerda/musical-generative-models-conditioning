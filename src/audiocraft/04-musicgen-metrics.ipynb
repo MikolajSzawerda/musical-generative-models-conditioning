{
 "cells": [
  {
   "cell_type": "code",
   "execution_count": 1,
   "metadata": {},
   "outputs": [
    {
     "data": {
      "text/plain": [
       "True"
      ]
     },
     "execution_count": 1,
     "metadata": {},
     "output_type": "execute_result"
    }
   ],
   "source": [
    "from tools.project import INPUT_PATH, LOGS_PATH, OUTPUT_PATH, RAW_PATH\n",
    "import torch\n",
    "import torch\n",
    "from audiocraft.data.audio import audio_read, audio_write\n",
    "from audiocraft.data.audio_utils import convert_audio_channels, convert_audio\n",
    "import numpy as np\n",
    "from audioldm_eval.metrics.fad import FrechetAudioDistance\n",
    "import os\n",
    "DEVICE = torch.device(\"cuda\" if torch.cuda.is_available() else 'cpu')\n",
    "EXAMPLES_LEN = 5\n",
    "torch.cuda.is_available()"
   ]
  },
  {
   "cell_type": "code",
   "execution_count": 3,
   "metadata": {},
   "outputs": [
    {
     "name": "stderr",
     "output_type": "stream",
     "text": [
      "Using cache found in /home/mszawerda/.cache/torch/hub/harritaylor_torchvggish_master\n"
     ]
    }
   ],
   "source": [
    "# model = MusicGen.get_pretrained('facebook/musicgen-small')\n",
    "# model.set_generation_params(\n",
    "# \tuse_sampling=True,\n",
    "# \ttop_k=250,\n",
    "# \tduration=EXAMPLES_LEN\n",
    "# )"
   ]
  },
  {
   "cell_type": "code",
   "execution_count": 4,
   "metadata": {},
   "outputs": [
    {
     "name": "stdout",
     "output_type": "stream",
     "text": [
      "Reload fad_generated_folder_cache /home/mszawerda/musical-generative-models-conditioning/data/input/textual-inversion/metal_fad_fad_feature_cache.npy\n",
      "Loading data to RAM\n"
     ]
    },
    {
     "name": "stderr",
     "output_type": "stream",
     "text": [
      "100%|██████████| 14/14 [00:00<00:00, 54.18it/s]\n",
      "100%|██████████| 14/14 [00:00<00:00, 237.22it/s]\n"
     ]
    },
    {
     "data": {
      "text/plain": [
       "{'frechet_audio_distance': 30.598606179254183}"
      ]
     },
     "execution_count": 4,
     "metadata": {},
     "output_type": "execute_result"
    }
   ],
   "source": []
  },
  {
   "cell_type": "code",
   "execution_count": 30,
   "metadata": {},
   "outputs": [
    {
     "name": "stdout",
     "output_type": "stream",
     "text": [
      "   253 /    253\r"
     ]
    }
   ],
   "source": [
    "res=model.generate([f\"music in the style of jazz song\"]*5, progress=True)\n",
    "for a_idx in range(res.shape[0]):\n",
    "    music = res[a_idx].cpu()\n",
    "    music = music/np.max(np.abs(music.numpy()))\n",
    "    path = OUTPUT_PATH(\"textual-inversion\", 'metal', 'temp', f'music_p{a_idx}')\n",
    "    audio_write(path, music, model.cfg.sample_rate)"
   ]
  },
  {
   "cell_type": "code",
   "execution_count": 3,
   "metadata": {},
   "outputs": [
    {
     "name": "stderr",
     "output_type": "stream",
     "text": [
      "Using cache found in /home/mszawerda/.cache/torch/hub/harritaylor_torchvggish_master\n"
     ]
    },
    {
     "name": "stdout",
     "output_type": "stream",
     "text": [
      "Reload fad_generated_folder_cache /home/mszawerda/musical-generative-models-conditioning/data/output/textual-inversion-v3/metal/temp_fad_feature_cache.npy\n",
      "Reload fad_target_folder_cache /home/mszawerda/musical-generative-models-conditioning/data/raw/fad_debug/1_fad_feature_cache.npy\n"
     ]
    },
    {
     "data": {
      "text/plain": [
       "'(3, 1): 19.453124712779925'"
      ]
     },
     "execution_count": 3,
     "metadata": {},
     "output_type": "execute_result"
    }
   ],
   "source": [
    "fad = FrechetAudioDistance(verbose=True, use_pca=False, use_activation=False)\n",
    "fad.model = fad.model.to(DEVICE)\n",
    "\n",
    "f = lambda x, y: f\"({x}, {y}): {fad.score(OUTPUT_PATH('textual-inversion-v3', 'metal', 'temp'), RAW_PATH('fad_debug', y))['frechet_audio_distance']}\"\n",
    "f('3', '1')"
   ]
  },
  {
   "cell_type": "code",
   "execution_count": 11,
   "metadata": {},
   "outputs": [
    {
     "name": "stdout",
     "output_type": "stream",
     "text": [
      "Loading data to RAM\n"
     ]
    },
    {
     "name": "stderr",
     "output_type": "stream",
     "text": [
      "100%|██████████| 5/5 [00:00<00:00, 28.23it/s]\n",
      "100%|██████████| 5/5 [00:00<00:00, 158.28it/s]\n"
     ]
    },
    {
     "name": "stdout",
     "output_type": "stream",
     "text": [
      "Loading data to RAM\n"
     ]
    },
    {
     "name": "stderr",
     "output_type": "stream",
     "text": [
      "100%|██████████| 5/5 [00:00<00:00, 29.43it/s]\n",
      "100%|██████████| 5/5 [00:00<00:00, 191.71it/s]\n"
     ]
    },
    {
     "name": "stdout",
     "output_type": "stream",
     "text": [
      "[Frechet Audio Distance] exception thrown, Imaginary component 0.25250462336960655\n",
      "-1\n"
     ]
    }
   ],
   "source": [
    "# fd_score = fad.score(INPUT_PATH('textual-inversion-v3', 'data', 'train', 'cluster_0', 'audio'), OUTPUT_PATH(\"textual-inversion\", 'metal', 'temp'))\n",
    "# fd_score = fad.score(INPUT_PATH('textual-inversion-v3', 'data', 'train', 'cluster_0', 'audio'), OUTPUT_PATH('textual-inversion-v3', 'cluster_10', 'temp'))\n",
    "fd_score = fad.score(OUTPUT_PATH('textual-inversion-v3', 'cluster_2', 'temp'), OUTPUT_PATH('textual-inversion-v3', 'cluster_10', 'temp'), recalculate=True)\n",
    "# fd_score = fad.score(INPUT_PATH('textual-inversion-v3', 'data', 'train', 'cluster_0', 'audio'), INPUT_PATH('textual-inversion-v3', 'data', 'train', 'cluster_1', 'audio'))\n",
    "print(fd_score)\n",
    "# os.remove(OUTPUT_PATH(\"textual-inversion\", 'metal', 'temp_fad_feature_cache.npy'))\n",
    "# list(fd_score.values())[0]"
   ]
  }
 ],
 "metadata": {
  "kernelspec": {
   "display_name": "musicgen-ufgTm-Qc-py3.10",
   "language": "python",
   "name": "python3"
  },
  "language_info": {
   "codemirror_mode": {
    "name": "ipython",
    "version": 3
   },
   "file_extension": ".py",
   "mimetype": "text/x-python",
   "name": "python",
   "nbconvert_exporter": "python",
   "pygments_lexer": "ipython3",
   "version": "3.10.12"
  }
 },
 "nbformat": 4,
 "nbformat_minor": 2
}
