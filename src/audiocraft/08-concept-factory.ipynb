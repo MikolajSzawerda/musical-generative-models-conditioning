{
 "cells": [
  {
   "cell_type": "code",
   "metadata": {},
   "source": [
    "from tools.project import INPUT_PATH, LOGS_PATH, OUTPUT_PATH, MODELS_PATH, RAW_PATH\n",
    "import torch\n",
    "import os\n",
    "from datasets import Audio, load_dataset, Dataset\n",
    "from src.jamendo_utils import read_file\n",
    "from audiocraft.utils.notebook import display_audio\n",
    "import numpy as np\n",
    "import pandas as pd\n",
    "from transformers import ClapConfig, ClapModel, AutoFeatureExtractor\n",
    "from torch.nn.utils.rnn import pad_sequence\n",
    "from torch.utils.data import default_collate\n",
    "import tqdm\n",
    "import json\n",
    "from audiocraft.data.audio import audio_read, audio_write\n",
    "from audiocraft.data.audio_utils import convert_audio_channels, convert_audio\n",
    "\n",
    "import umap\n",
    "import matplotlib.pyplot as plt\n",
    "import numpy as np\n",
    "import matplotlib.cm as cm\n",
    "import matplotlib.colors as mcolors\n",
    "from sklearn.decomposition import PCA\n",
    "from sklearn.cluster import KMeans\n",
    "from sklearn.cluster import DBSCAN\n",
    "from collections import Counter\n",
    "from audiocraft.models import MusicGen\n",
    "\n",
    "import random\n",
    "\n",
    "DEVICE = 'cuda' if torch.cuda.is_available() else 'cpu'"
   ],
   "outputs": [],
   "execution_count": null
  },
  {
   "cell_type": "code",
   "metadata": {},
   "source": [
    "# df.to_json(RAW_PATH('ds-indexes', 'song-describer.jsonl'), lines=True, indent=4, orient=\"records\", force_ascii=False)\n",
    "df = pd.read_json(RAW_PATH('ds-indexes', 'song-describer.jsonl'), lines=True)\n",
    "for name in ['genre', 'instrument', 'mood/theme', 'text_clst']:\n",
    "    df[name] = df[name].apply(lambda x: set(x))\n",
    "df"
   ],
   "outputs": [],
   "execution_count": null
  },
  {
   "cell_type": "code",
   "metadata": {},
   "source": [
    "df[df['mood/theme'].apply(lambda x: x.issuperset(['happy']))]"
   ],
   "outputs": [],
   "execution_count": null
  }
 ],
 "metadata": {
  "kernelspec": {
   "display_name": "Python Audiocraft",
   "language": "python",
   "name": "audiocraft_lab"
  }
 },
 "nbformat": 4,
 "nbformat_minor": 2
}
