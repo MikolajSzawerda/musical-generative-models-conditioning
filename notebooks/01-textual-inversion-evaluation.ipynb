{
 "cells": [
  {
   "cell_type": "code",
   "execution_count": 53,
   "metadata": {},
   "outputs": [],
   "source": [
    "import json\n",
    "import pandas as pd\n",
    "from tools.project import OUTPUT_PATH, RAW_PATH\n",
    "import plotly.express as px\n",
    "from plotly.subplots import make_subplots\n",
    "import plotly.graph_objects as go\n",
    "import numpy as np"
   ]
  },
  {
   "cell_type": "code",
   "execution_count": 2,
   "metadata": {},
   "outputs": [],
   "source": [
    "def load_metrics(json_path):\n",
    "    with open(json_path, 'r') as f:\n",
    "        data = json.load(f)\n",
    "    df = pd.DataFrame.from_dict(data, orient='index')\n",
    "    return df"
   ]
  },
  {
   "cell_type": "code",
   "execution_count": 5,
   "metadata": {},
   "outputs": [],
   "source": [
    "def rename_columns(df):\n",
    "    \"\"\"\n",
    "    Rename columns to use LaTeX-friendly names.\n",
    "    For example, fad_ti -> FAD$_{ti}$, kncc_other -> kNCC$_{other}$, etc.\n",
    "    \"\"\"\n",
    "    column_map = {\n",
    "        \"fad_ti\":      r\"FAD$_{ti}$\",\n",
    "        \"fad_other\":   r\"FAD$_{other}$\",\n",
    "        \"clap_ti\":     r\"CLAP$_{ti}$\",\n",
    "        \"clap_other\":  r\"CLAP$_{other}$\",\n",
    "        \"kncc_ti\":     r\"kNCC$_{ti}$\",\n",
    "        \"knco_ti\":     r\"kNCO$_{ti}$\",\n",
    "        \"kncc_other\":  r\"kNCC$_{other}$\",\n",
    "        \"knco_other\":  r\"kNCO$_{other}$\"\n",
    "    }\n",
    "    return df.rename(columns=column_map)"
   ]
  },
  {
   "cell_type": "code",
   "execution_count": 11,
   "metadata": {},
   "outputs": [],
   "source": [
    "metrics_df = load_metrics(OUTPUT_PATH('comparison', 'ti-musicgen-clean.json'))[['fad_ti', 'clap_ti', 'kncc_ti', 'knco_ti']]\n",
    "latex_df = rename_columns(metrics_df)\n",
    "latex_df = latex_df.round(3)\n",
    "latex_str = latex_df.to_latex(\n",
    "        index=True,            # Keep the row labels (the category names)\n",
    "        escape=False,          # Important to allow LaTeX syntax in the column names\n",
    "        float_format=\"%.3f\",\n",
    "        caption=\"Metrics Table with Mean and Variance\",  # Example caption\n",
    "        label=\"tab:metrics\"    # Example label\n",
    "    )\n",
    "    \n",
    "with open(OUTPUT_PATH('visualization', \"metrics_table.tex\"), \"w\") as f:\n",
    "    f.write(latex_str)"
   ]
  },
  {
   "cell_type": "code",
   "execution_count": 41,
   "metadata": {},
   "outputs": [
    {
     "data": {
      "application/vnd.plotly.v1+json": {
       "config": {
        "plotlyServerURL": "https://plot.ly"
       },
       "data": [
        {
         "fill": "toself",
         "legendgroup": "Inwersja Tekstowa + MusicGen",
         "marker": {
          "color": "blue"
         },
         "name": "Inwersja Tekstowa + MusicGen",
         "r": [
          10.336038407435321,
          5.954007534697109,
          12.999258026891884,
          9.005074330427078,
          10.27192031556675,
          10.857361004614722,
          14.197316838143065,
          8.269018182167184,
          8.394822478243373,
          15.450402314551969,
          10.822098567955573,
          12.495327226447813
         ],
         "showlegend": true,
         "subplot": "polar",
         "theta": [
          "two-steps",
          "chillout",
          "metal-solos",
          "8bit-slow",
          "choir",
          "8bit",
          "piano",
          "80s-synth",
          "saxophone-chillout",
          "b-minor-rock",
          "bells",
          "pirates"
         ],
         "type": "scatterpolar"
        },
        {
         "fill": "toself",
         "legendgroup": "MusicGen",
         "marker": {
          "color": "red"
         },
         "name": "MusicGen",
         "r": [
          8.334016141644096,
          6.997991027327176,
          15.121348303753589,
          5.708650446670639,
          11.204199253263532,
          8.091738782584116,
          12.910067380384483,
          7.31072252886668,
          5.857700500138222,
          7.728103140325951,
          13.443769593840312,
          8.52389944326805
         ],
         "showlegend": true,
         "subplot": "polar",
         "theta": [
          "two-steps",
          "chillout",
          "metal-solos",
          "8bit-slow",
          "choir",
          "8bit",
          "piano",
          "80s-synth",
          "saxophone-chillout",
          "b-minor-rock",
          "bells",
          "pirates"
         ],
         "type": "scatterpolar"
        },
        {
         "fill": "toself",
         "legendgroup": "Inwersja Tekstowa + MusicGen",
         "marker": {
          "color": "blue"
         },
         "name": "Inwersja Tekstowa + MusicGen",
         "r": [
          0.4830560919471887,
          0.31636361541934255,
          0.3939273531401597,
          0.2817334792632351,
          0.6075834039015635,
          0.23373738089038082,
          0.6970218221644846,
          0.3195803929188153,
          0.32744070082205406,
          0.3545804251256255,
          0.5018643286330186,
          0.5748986963384237
         ],
         "showlegend": false,
         "subplot": "polar2",
         "theta": [
          "two-steps",
          "chillout",
          "metal-solos",
          "8bit-slow",
          "choir",
          "8bit",
          "piano",
          "80s-synth",
          "saxophone-chillout",
          "b-minor-rock",
          "bells",
          "pirates"
         ],
         "type": "scatterpolar"
        },
        {
         "fill": "toself",
         "legendgroup": "MusicGen",
         "marker": {
          "color": "red"
         },
         "name": "MusicGen",
         "r": [
          0.6386362827075447,
          0.4568262351461864,
          0.4924825898814629,
          0.40318770984624797,
          0.8886801534718054,
          0.3232331959613351,
          0.6769160624363293,
          0.415225394853702,
          0.5535554749420727,
          0.6759760051047373,
          0.5173906516207379,
          0.5947717857122539
         ],
         "showlegend": false,
         "subplot": "polar2",
         "theta": [
          "two-steps",
          "chillout",
          "metal-solos",
          "8bit-slow",
          "choir",
          "8bit",
          "piano",
          "80s-synth",
          "saxophone-chillout",
          "b-minor-rock",
          "bells",
          "pirates"
         ],
         "type": "scatterpolar"
        },
        {
         "fill": "toself",
         "legendgroup": "Inwersja Tekstowa + MusicGen",
         "marker": {
          "color": "blue"
         },
         "name": "Inwersja Tekstowa + MusicGen",
         "r": [
          17.603073120117188,
          16.0402889251709,
          21.54328727722168,
          17.677356719970703,
          13.969916343688965,
          18.28579330444336,
          14.305448532104492,
          11.422830581665039,
          19.43815803527832,
          17.825685501098633,
          18.09717559814453,
          19.082719802856445
         ],
         "showlegend": false,
         "subplot": "polar3",
         "theta": [
          "two-steps",
          "chillout",
          "metal-solos",
          "8bit-slow",
          "choir",
          "8bit",
          "piano",
          "80s-synth",
          "saxophone-chillout",
          "b-minor-rock",
          "bells",
          "pirates"
         ],
         "type": "scatterpolar"
        },
        {
         "fill": "toself",
         "legendgroup": "MusicGen",
         "marker": {
          "color": "red"
         },
         "name": "MusicGen",
         "r": [
          16.2048282623291,
          16.345754623413086,
          20.393539428710938,
          15.793801307678223,
          10.479802131652832,
          18.32185173034668,
          15.620468139648438,
          12.405912399291992,
          18.905126571655273,
          18.73316192626953,
          18.97112464904785,
          19.003049850463867
         ],
         "showlegend": false,
         "subplot": "polar3",
         "theta": [
          "two-steps",
          "chillout",
          "metal-solos",
          "8bit-slow",
          "choir",
          "8bit",
          "piano",
          "80s-synth",
          "saxophone-chillout",
          "b-minor-rock",
          "bells",
          "pirates"
         ],
         "type": "scatterpolar"
        }
       ],
       "layout": {
        "annotations": [
         {
          "font": {
           "size": 16
          },
          "showarrow": false,
          "text": "FAD",
          "x": 0.225,
          "xanchor": "center",
          "xref": "paper",
          "y": 1,
          "yanchor": "bottom",
          "yref": "paper"
         },
         {
          "font": {
           "size": 16
          },
          "showarrow": false,
          "text": "FAD_CLAP",
          "x": 0.775,
          "xanchor": "center",
          "xref": "paper",
          "y": 1,
          "yanchor": "bottom",
          "yref": "paper"
         },
         {
          "font": {
           "size": 16
          },
          "showarrow": false,
          "text": "CLAP",
          "x": 0.225,
          "xanchor": "center",
          "xref": "paper",
          "y": 0.425,
          "yanchor": "bottom",
          "yref": "paper"
         }
        ],
        "height": 1000,
        "legend": {
         "bgcolor": "rgba(255,255,255,0.8)",
         "font": {
          "size": 14
         },
         "orientation": "h",
         "x": 0.5,
         "xanchor": "center",
         "y": -0.2,
         "yanchor": "bottom"
        },
        "polar": {
         "domain": {
          "x": [
           0,
           0.45
          ],
          "y": [
           0.575,
           1
          ]
         }
        },
        "polar2": {
         "domain": {
          "x": [
           0.55,
           1
          ],
          "y": [
           0.575,
           1
          ]
         }
        },
        "polar3": {
         "domain": {
          "x": [
           0,
           0.45
          ],
          "y": [
           0,
           0.425
          ]
         }
        },
        "polar4": {
         "domain": {
          "x": [
           0.55,
           1
          ],
          "y": [
           0,
           0.425
          ]
         }
        },
        "showlegend": true,
        "template": {
         "data": {
          "bar": [
           {
            "error_x": {
             "color": "#2a3f5f"
            },
            "error_y": {
             "color": "#2a3f5f"
            },
            "marker": {
             "line": {
              "color": "#E5ECF6",
              "width": 0.5
             },
             "pattern": {
              "fillmode": "overlay",
              "size": 10,
              "solidity": 0.2
             }
            },
            "type": "bar"
           }
          ],
          "barpolar": [
           {
            "marker": {
             "line": {
              "color": "#E5ECF6",
              "width": 0.5
             },
             "pattern": {
              "fillmode": "overlay",
              "size": 10,
              "solidity": 0.2
             }
            },
            "type": "barpolar"
           }
          ],
          "carpet": [
           {
            "aaxis": {
             "endlinecolor": "#2a3f5f",
             "gridcolor": "white",
             "linecolor": "white",
             "minorgridcolor": "white",
             "startlinecolor": "#2a3f5f"
            },
            "baxis": {
             "endlinecolor": "#2a3f5f",
             "gridcolor": "white",
             "linecolor": "white",
             "minorgridcolor": "white",
             "startlinecolor": "#2a3f5f"
            },
            "type": "carpet"
           }
          ],
          "choropleth": [
           {
            "colorbar": {
             "outlinewidth": 0,
             "ticks": ""
            },
            "type": "choropleth"
           }
          ],
          "contour": [
           {
            "colorbar": {
             "outlinewidth": 0,
             "ticks": ""
            },
            "colorscale": [
             [
              0,
              "#0d0887"
             ],
             [
              0.1111111111111111,
              "#46039f"
             ],
             [
              0.2222222222222222,
              "#7201a8"
             ],
             [
              0.3333333333333333,
              "#9c179e"
             ],
             [
              0.4444444444444444,
              "#bd3786"
             ],
             [
              0.5555555555555556,
              "#d8576b"
             ],
             [
              0.6666666666666666,
              "#ed7953"
             ],
             [
              0.7777777777777778,
              "#fb9f3a"
             ],
             [
              0.8888888888888888,
              "#fdca26"
             ],
             [
              1,
              "#f0f921"
             ]
            ],
            "type": "contour"
           }
          ],
          "contourcarpet": [
           {
            "colorbar": {
             "outlinewidth": 0,
             "ticks": ""
            },
            "type": "contourcarpet"
           }
          ],
          "heatmap": [
           {
            "colorbar": {
             "outlinewidth": 0,
             "ticks": ""
            },
            "colorscale": [
             [
              0,
              "#0d0887"
             ],
             [
              0.1111111111111111,
              "#46039f"
             ],
             [
              0.2222222222222222,
              "#7201a8"
             ],
             [
              0.3333333333333333,
              "#9c179e"
             ],
             [
              0.4444444444444444,
              "#bd3786"
             ],
             [
              0.5555555555555556,
              "#d8576b"
             ],
             [
              0.6666666666666666,
              "#ed7953"
             ],
             [
              0.7777777777777778,
              "#fb9f3a"
             ],
             [
              0.8888888888888888,
              "#fdca26"
             ],
             [
              1,
              "#f0f921"
             ]
            ],
            "type": "heatmap"
           }
          ],
          "heatmapgl": [
           {
            "colorbar": {
             "outlinewidth": 0,
             "ticks": ""
            },
            "colorscale": [
             [
              0,
              "#0d0887"
             ],
             [
              0.1111111111111111,
              "#46039f"
             ],
             [
              0.2222222222222222,
              "#7201a8"
             ],
             [
              0.3333333333333333,
              "#9c179e"
             ],
             [
              0.4444444444444444,
              "#bd3786"
             ],
             [
              0.5555555555555556,
              "#d8576b"
             ],
             [
              0.6666666666666666,
              "#ed7953"
             ],
             [
              0.7777777777777778,
              "#fb9f3a"
             ],
             [
              0.8888888888888888,
              "#fdca26"
             ],
             [
              1,
              "#f0f921"
             ]
            ],
            "type": "heatmapgl"
           }
          ],
          "histogram": [
           {
            "marker": {
             "pattern": {
              "fillmode": "overlay",
              "size": 10,
              "solidity": 0.2
             }
            },
            "type": "histogram"
           }
          ],
          "histogram2d": [
           {
            "colorbar": {
             "outlinewidth": 0,
             "ticks": ""
            },
            "colorscale": [
             [
              0,
              "#0d0887"
             ],
             [
              0.1111111111111111,
              "#46039f"
             ],
             [
              0.2222222222222222,
              "#7201a8"
             ],
             [
              0.3333333333333333,
              "#9c179e"
             ],
             [
              0.4444444444444444,
              "#bd3786"
             ],
             [
              0.5555555555555556,
              "#d8576b"
             ],
             [
              0.6666666666666666,
              "#ed7953"
             ],
             [
              0.7777777777777778,
              "#fb9f3a"
             ],
             [
              0.8888888888888888,
              "#fdca26"
             ],
             [
              1,
              "#f0f921"
             ]
            ],
            "type": "histogram2d"
           }
          ],
          "histogram2dcontour": [
           {
            "colorbar": {
             "outlinewidth": 0,
             "ticks": ""
            },
            "colorscale": [
             [
              0,
              "#0d0887"
             ],
             [
              0.1111111111111111,
              "#46039f"
             ],
             [
              0.2222222222222222,
              "#7201a8"
             ],
             [
              0.3333333333333333,
              "#9c179e"
             ],
             [
              0.4444444444444444,
              "#bd3786"
             ],
             [
              0.5555555555555556,
              "#d8576b"
             ],
             [
              0.6666666666666666,
              "#ed7953"
             ],
             [
              0.7777777777777778,
              "#fb9f3a"
             ],
             [
              0.8888888888888888,
              "#fdca26"
             ],
             [
              1,
              "#f0f921"
             ]
            ],
            "type": "histogram2dcontour"
           }
          ],
          "mesh3d": [
           {
            "colorbar": {
             "outlinewidth": 0,
             "ticks": ""
            },
            "type": "mesh3d"
           }
          ],
          "parcoords": [
           {
            "line": {
             "colorbar": {
              "outlinewidth": 0,
              "ticks": ""
             }
            },
            "type": "parcoords"
           }
          ],
          "pie": [
           {
            "automargin": true,
            "type": "pie"
           }
          ],
          "scatter": [
           {
            "fillpattern": {
             "fillmode": "overlay",
             "size": 10,
             "solidity": 0.2
            },
            "type": "scatter"
           }
          ],
          "scatter3d": [
           {
            "line": {
             "colorbar": {
              "outlinewidth": 0,
              "ticks": ""
             }
            },
            "marker": {
             "colorbar": {
              "outlinewidth": 0,
              "ticks": ""
             }
            },
            "type": "scatter3d"
           }
          ],
          "scattercarpet": [
           {
            "marker": {
             "colorbar": {
              "outlinewidth": 0,
              "ticks": ""
             }
            },
            "type": "scattercarpet"
           }
          ],
          "scattergeo": [
           {
            "marker": {
             "colorbar": {
              "outlinewidth": 0,
              "ticks": ""
             }
            },
            "type": "scattergeo"
           }
          ],
          "scattergl": [
           {
            "marker": {
             "colorbar": {
              "outlinewidth": 0,
              "ticks": ""
             }
            },
            "type": "scattergl"
           }
          ],
          "scattermapbox": [
           {
            "marker": {
             "colorbar": {
              "outlinewidth": 0,
              "ticks": ""
             }
            },
            "type": "scattermapbox"
           }
          ],
          "scatterpolar": [
           {
            "marker": {
             "colorbar": {
              "outlinewidth": 0,
              "ticks": ""
             }
            },
            "type": "scatterpolar"
           }
          ],
          "scatterpolargl": [
           {
            "marker": {
             "colorbar": {
              "outlinewidth": 0,
              "ticks": ""
             }
            },
            "type": "scatterpolargl"
           }
          ],
          "scatterternary": [
           {
            "marker": {
             "colorbar": {
              "outlinewidth": 0,
              "ticks": ""
             }
            },
            "type": "scatterternary"
           }
          ],
          "surface": [
           {
            "colorbar": {
             "outlinewidth": 0,
             "ticks": ""
            },
            "colorscale": [
             [
              0,
              "#0d0887"
             ],
             [
              0.1111111111111111,
              "#46039f"
             ],
             [
              0.2222222222222222,
              "#7201a8"
             ],
             [
              0.3333333333333333,
              "#9c179e"
             ],
             [
              0.4444444444444444,
              "#bd3786"
             ],
             [
              0.5555555555555556,
              "#d8576b"
             ],
             [
              0.6666666666666666,
              "#ed7953"
             ],
             [
              0.7777777777777778,
              "#fb9f3a"
             ],
             [
              0.8888888888888888,
              "#fdca26"
             ],
             [
              1,
              "#f0f921"
             ]
            ],
            "type": "surface"
           }
          ],
          "table": [
           {
            "cells": {
             "fill": {
              "color": "#EBF0F8"
             },
             "line": {
              "color": "white"
             }
            },
            "header": {
             "fill": {
              "color": "#C8D4E3"
             },
             "line": {
              "color": "white"
             }
            },
            "type": "table"
           }
          ]
         },
         "layout": {
          "annotationdefaults": {
           "arrowcolor": "#2a3f5f",
           "arrowhead": 0,
           "arrowwidth": 1
          },
          "autotypenumbers": "strict",
          "coloraxis": {
           "colorbar": {
            "outlinewidth": 0,
            "ticks": ""
           }
          },
          "colorscale": {
           "diverging": [
            [
             0,
             "#8e0152"
            ],
            [
             0.1,
             "#c51b7d"
            ],
            [
             0.2,
             "#de77ae"
            ],
            [
             0.3,
             "#f1b6da"
            ],
            [
             0.4,
             "#fde0ef"
            ],
            [
             0.5,
             "#f7f7f7"
            ],
            [
             0.6,
             "#e6f5d0"
            ],
            [
             0.7,
             "#b8e186"
            ],
            [
             0.8,
             "#7fbc41"
            ],
            [
             0.9,
             "#4d9221"
            ],
            [
             1,
             "#276419"
            ]
           ],
           "sequential": [
            [
             0,
             "#0d0887"
            ],
            [
             0.1111111111111111,
             "#46039f"
            ],
            [
             0.2222222222222222,
             "#7201a8"
            ],
            [
             0.3333333333333333,
             "#9c179e"
            ],
            [
             0.4444444444444444,
             "#bd3786"
            ],
            [
             0.5555555555555556,
             "#d8576b"
            ],
            [
             0.6666666666666666,
             "#ed7953"
            ],
            [
             0.7777777777777778,
             "#fb9f3a"
            ],
            [
             0.8888888888888888,
             "#fdca26"
            ],
            [
             1,
             "#f0f921"
            ]
           ],
           "sequentialminus": [
            [
             0,
             "#0d0887"
            ],
            [
             0.1111111111111111,
             "#46039f"
            ],
            [
             0.2222222222222222,
             "#7201a8"
            ],
            [
             0.3333333333333333,
             "#9c179e"
            ],
            [
             0.4444444444444444,
             "#bd3786"
            ],
            [
             0.5555555555555556,
             "#d8576b"
            ],
            [
             0.6666666666666666,
             "#ed7953"
            ],
            [
             0.7777777777777778,
             "#fb9f3a"
            ],
            [
             0.8888888888888888,
             "#fdca26"
            ],
            [
             1,
             "#f0f921"
            ]
           ]
          },
          "colorway": [
           "#636efa",
           "#EF553B",
           "#00cc96",
           "#ab63fa",
           "#FFA15A",
           "#19d3f3",
           "#FF6692",
           "#B6E880",
           "#FF97FF",
           "#FECB52"
          ],
          "font": {
           "color": "#2a3f5f"
          },
          "geo": {
           "bgcolor": "white",
           "lakecolor": "white",
           "landcolor": "#E5ECF6",
           "showlakes": true,
           "showland": true,
           "subunitcolor": "white"
          },
          "hoverlabel": {
           "align": "left"
          },
          "hovermode": "closest",
          "mapbox": {
           "style": "light"
          },
          "paper_bgcolor": "white",
          "plot_bgcolor": "#E5ECF6",
          "polar": {
           "angularaxis": {
            "gridcolor": "white",
            "linecolor": "white",
            "ticks": ""
           },
           "bgcolor": "#E5ECF6",
           "radialaxis": {
            "gridcolor": "white",
            "linecolor": "white",
            "ticks": ""
           }
          },
          "scene": {
           "xaxis": {
            "backgroundcolor": "#E5ECF6",
            "gridcolor": "white",
            "gridwidth": 2,
            "linecolor": "white",
            "showbackground": true,
            "ticks": "",
            "zerolinecolor": "white"
           },
           "yaxis": {
            "backgroundcolor": "#E5ECF6",
            "gridcolor": "white",
            "gridwidth": 2,
            "linecolor": "white",
            "showbackground": true,
            "ticks": "",
            "zerolinecolor": "white"
           },
           "zaxis": {
            "backgroundcolor": "#E5ECF6",
            "gridcolor": "white",
            "gridwidth": 2,
            "linecolor": "white",
            "showbackground": true,
            "ticks": "",
            "zerolinecolor": "white"
           }
          },
          "shapedefaults": {
           "line": {
            "color": "#2a3f5f"
           }
          },
          "ternary": {
           "aaxis": {
            "gridcolor": "white",
            "linecolor": "white",
            "ticks": ""
           },
           "baxis": {
            "gridcolor": "white",
            "linecolor": "white",
            "ticks": ""
           },
           "bgcolor": "#E5ECF6",
           "caxis": {
            "gridcolor": "white",
            "linecolor": "white",
            "ticks": ""
           }
          },
          "title": {
           "x": 0.05
          },
          "xaxis": {
           "automargin": true,
           "gridcolor": "white",
           "linecolor": "white",
           "ticks": "",
           "title": {
            "standoff": 15
           },
           "zerolinecolor": "white",
           "zerolinewidth": 2
          },
          "yaxis": {
           "automargin": true,
           "gridcolor": "white",
           "linecolor": "white",
           "ticks": "",
           "title": {
            "standoff": 15
           },
           "zerolinecolor": "white",
           "zerolinewidth": 2
          }
         }
        },
        "width": 800
       }
      },
      "text/html": [
       "<div>                            <div id=\"9befea49-9aeb-405a-aaaa-f130bb43c981\" class=\"plotly-graph-div\" style=\"height:1000px; width:800px;\"></div>            <script type=\"text/javascript\">                require([\"plotly\"], function(Plotly) {                    window.PLOTLYENV=window.PLOTLYENV || {};                                    if (document.getElementById(\"9befea49-9aeb-405a-aaaa-f130bb43c981\")) {                    Plotly.newPlot(                        \"9befea49-9aeb-405a-aaaa-f130bb43c981\",                        [{\"fill\":\"toself\",\"legendgroup\":\"Inwersja Tekstowa + MusicGen\",\"marker\":{\"color\":\"blue\"},\"name\":\"Inwersja Tekstowa + MusicGen\",\"r\":[10.336038407435321,5.954007534697109,12.999258026891884,9.005074330427078,10.27192031556675,10.857361004614722,14.197316838143065,8.269018182167184,8.394822478243373,15.450402314551969,10.822098567955573,12.495327226447813],\"showlegend\":true,\"theta\":[\"two-steps\",\"chillout\",\"metal-solos\",\"8bit-slow\",\"choir\",\"8bit\",\"piano\",\"80s-synth\",\"saxophone-chillout\",\"b-minor-rock\",\"bells\",\"pirates\"],\"type\":\"scatterpolar\",\"subplot\":\"polar\"},{\"fill\":\"toself\",\"legendgroup\":\"MusicGen\",\"marker\":{\"color\":\"red\"},\"name\":\"MusicGen\",\"r\":[8.334016141644096,6.997991027327176,15.121348303753589,5.708650446670639,11.204199253263532,8.091738782584116,12.910067380384483,7.31072252886668,5.857700500138222,7.728103140325951,13.443769593840312,8.52389944326805],\"showlegend\":true,\"theta\":[\"two-steps\",\"chillout\",\"metal-solos\",\"8bit-slow\",\"choir\",\"8bit\",\"piano\",\"80s-synth\",\"saxophone-chillout\",\"b-minor-rock\",\"bells\",\"pirates\"],\"type\":\"scatterpolar\",\"subplot\":\"polar\"},{\"fill\":\"toself\",\"legendgroup\":\"Inwersja Tekstowa + MusicGen\",\"marker\":{\"color\":\"blue\"},\"name\":\"Inwersja Tekstowa + MusicGen\",\"r\":[0.4830560919471887,0.31636361541934255,0.3939273531401597,0.2817334792632351,0.6075834039015635,0.23373738089038082,0.6970218221644846,0.3195803929188153,0.32744070082205406,0.3545804251256255,0.5018643286330186,0.5748986963384237],\"showlegend\":false,\"theta\":[\"two-steps\",\"chillout\",\"metal-solos\",\"8bit-slow\",\"choir\",\"8bit\",\"piano\",\"80s-synth\",\"saxophone-chillout\",\"b-minor-rock\",\"bells\",\"pirates\"],\"type\":\"scatterpolar\",\"subplot\":\"polar2\"},{\"fill\":\"toself\",\"legendgroup\":\"MusicGen\",\"marker\":{\"color\":\"red\"},\"name\":\"MusicGen\",\"r\":[0.6386362827075447,0.4568262351461864,0.4924825898814629,0.40318770984624797,0.8886801534718054,0.3232331959613351,0.6769160624363293,0.415225394853702,0.5535554749420727,0.6759760051047373,0.5173906516207379,0.5947717857122539],\"showlegend\":false,\"theta\":[\"two-steps\",\"chillout\",\"metal-solos\",\"8bit-slow\",\"choir\",\"8bit\",\"piano\",\"80s-synth\",\"saxophone-chillout\",\"b-minor-rock\",\"bells\",\"pirates\"],\"type\":\"scatterpolar\",\"subplot\":\"polar2\"},{\"fill\":\"toself\",\"legendgroup\":\"Inwersja Tekstowa + MusicGen\",\"marker\":{\"color\":\"blue\"},\"name\":\"Inwersja Tekstowa + MusicGen\",\"r\":[17.603073120117188,16.0402889251709,21.54328727722168,17.677356719970703,13.969916343688965,18.28579330444336,14.305448532104492,11.422830581665039,19.43815803527832,17.825685501098633,18.09717559814453,19.082719802856445],\"showlegend\":false,\"theta\":[\"two-steps\",\"chillout\",\"metal-solos\",\"8bit-slow\",\"choir\",\"8bit\",\"piano\",\"80s-synth\",\"saxophone-chillout\",\"b-minor-rock\",\"bells\",\"pirates\"],\"type\":\"scatterpolar\",\"subplot\":\"polar3\"},{\"fill\":\"toself\",\"legendgroup\":\"MusicGen\",\"marker\":{\"color\":\"red\"},\"name\":\"MusicGen\",\"r\":[16.2048282623291,16.345754623413086,20.393539428710938,15.793801307678223,10.479802131652832,18.32185173034668,15.620468139648438,12.405912399291992,18.905126571655273,18.73316192626953,18.97112464904785,19.003049850463867],\"showlegend\":false,\"theta\":[\"two-steps\",\"chillout\",\"metal-solos\",\"8bit-slow\",\"choir\",\"8bit\",\"piano\",\"80s-synth\",\"saxophone-chillout\",\"b-minor-rock\",\"bells\",\"pirates\"],\"type\":\"scatterpolar\",\"subplot\":\"polar3\"}],                        {\"template\":{\"data\":{\"histogram2dcontour\":[{\"type\":\"histogram2dcontour\",\"colorbar\":{\"outlinewidth\":0,\"ticks\":\"\"},\"colorscale\":[[0.0,\"#0d0887\"],[0.1111111111111111,\"#46039f\"],[0.2222222222222222,\"#7201a8\"],[0.3333333333333333,\"#9c179e\"],[0.4444444444444444,\"#bd3786\"],[0.5555555555555556,\"#d8576b\"],[0.6666666666666666,\"#ed7953\"],[0.7777777777777778,\"#fb9f3a\"],[0.8888888888888888,\"#fdca26\"],[1.0,\"#f0f921\"]]}],\"choropleth\":[{\"type\":\"choropleth\",\"colorbar\":{\"outlinewidth\":0,\"ticks\":\"\"}}],\"histogram2d\":[{\"type\":\"histogram2d\",\"colorbar\":{\"outlinewidth\":0,\"ticks\":\"\"},\"colorscale\":[[0.0,\"#0d0887\"],[0.1111111111111111,\"#46039f\"],[0.2222222222222222,\"#7201a8\"],[0.3333333333333333,\"#9c179e\"],[0.4444444444444444,\"#bd3786\"],[0.5555555555555556,\"#d8576b\"],[0.6666666666666666,\"#ed7953\"],[0.7777777777777778,\"#fb9f3a\"],[0.8888888888888888,\"#fdca26\"],[1.0,\"#f0f921\"]]}],\"heatmap\":[{\"type\":\"heatmap\",\"colorbar\":{\"outlinewidth\":0,\"ticks\":\"\"},\"colorscale\":[[0.0,\"#0d0887\"],[0.1111111111111111,\"#46039f\"],[0.2222222222222222,\"#7201a8\"],[0.3333333333333333,\"#9c179e\"],[0.4444444444444444,\"#bd3786\"],[0.5555555555555556,\"#d8576b\"],[0.6666666666666666,\"#ed7953\"],[0.7777777777777778,\"#fb9f3a\"],[0.8888888888888888,\"#fdca26\"],[1.0,\"#f0f921\"]]}],\"heatmapgl\":[{\"type\":\"heatmapgl\",\"colorbar\":{\"outlinewidth\":0,\"ticks\":\"\"},\"colorscale\":[[0.0,\"#0d0887\"],[0.1111111111111111,\"#46039f\"],[0.2222222222222222,\"#7201a8\"],[0.3333333333333333,\"#9c179e\"],[0.4444444444444444,\"#bd3786\"],[0.5555555555555556,\"#d8576b\"],[0.6666666666666666,\"#ed7953\"],[0.7777777777777778,\"#fb9f3a\"],[0.8888888888888888,\"#fdca26\"],[1.0,\"#f0f921\"]]}],\"contourcarpet\":[{\"type\":\"contourcarpet\",\"colorbar\":{\"outlinewidth\":0,\"ticks\":\"\"}}],\"contour\":[{\"type\":\"contour\",\"colorbar\":{\"outlinewidth\":0,\"ticks\":\"\"},\"colorscale\":[[0.0,\"#0d0887\"],[0.1111111111111111,\"#46039f\"],[0.2222222222222222,\"#7201a8\"],[0.3333333333333333,\"#9c179e\"],[0.4444444444444444,\"#bd3786\"],[0.5555555555555556,\"#d8576b\"],[0.6666666666666666,\"#ed7953\"],[0.7777777777777778,\"#fb9f3a\"],[0.8888888888888888,\"#fdca26\"],[1.0,\"#f0f921\"]]}],\"surface\":[{\"type\":\"surface\",\"colorbar\":{\"outlinewidth\":0,\"ticks\":\"\"},\"colorscale\":[[0.0,\"#0d0887\"],[0.1111111111111111,\"#46039f\"],[0.2222222222222222,\"#7201a8\"],[0.3333333333333333,\"#9c179e\"],[0.4444444444444444,\"#bd3786\"],[0.5555555555555556,\"#d8576b\"],[0.6666666666666666,\"#ed7953\"],[0.7777777777777778,\"#fb9f3a\"],[0.8888888888888888,\"#fdca26\"],[1.0,\"#f0f921\"]]}],\"mesh3d\":[{\"type\":\"mesh3d\",\"colorbar\":{\"outlinewidth\":0,\"ticks\":\"\"}}],\"scatter\":[{\"fillpattern\":{\"fillmode\":\"overlay\",\"size\":10,\"solidity\":0.2},\"type\":\"scatter\"}],\"parcoords\":[{\"type\":\"parcoords\",\"line\":{\"colorbar\":{\"outlinewidth\":0,\"ticks\":\"\"}}}],\"scatterpolargl\":[{\"type\":\"scatterpolargl\",\"marker\":{\"colorbar\":{\"outlinewidth\":0,\"ticks\":\"\"}}}],\"bar\":[{\"error_x\":{\"color\":\"#2a3f5f\"},\"error_y\":{\"color\":\"#2a3f5f\"},\"marker\":{\"line\":{\"color\":\"#E5ECF6\",\"width\":0.5},\"pattern\":{\"fillmode\":\"overlay\",\"size\":10,\"solidity\":0.2}},\"type\":\"bar\"}],\"scattergeo\":[{\"type\":\"scattergeo\",\"marker\":{\"colorbar\":{\"outlinewidth\":0,\"ticks\":\"\"}}}],\"scatterpolar\":[{\"type\":\"scatterpolar\",\"marker\":{\"colorbar\":{\"outlinewidth\":0,\"ticks\":\"\"}}}],\"histogram\":[{\"marker\":{\"pattern\":{\"fillmode\":\"overlay\",\"size\":10,\"solidity\":0.2}},\"type\":\"histogram\"}],\"scattergl\":[{\"type\":\"scattergl\",\"marker\":{\"colorbar\":{\"outlinewidth\":0,\"ticks\":\"\"}}}],\"scatter3d\":[{\"type\":\"scatter3d\",\"line\":{\"colorbar\":{\"outlinewidth\":0,\"ticks\":\"\"}},\"marker\":{\"colorbar\":{\"outlinewidth\":0,\"ticks\":\"\"}}}],\"scattermapbox\":[{\"type\":\"scattermapbox\",\"marker\":{\"colorbar\":{\"outlinewidth\":0,\"ticks\":\"\"}}}],\"scatterternary\":[{\"type\":\"scatterternary\",\"marker\":{\"colorbar\":{\"outlinewidth\":0,\"ticks\":\"\"}}}],\"scattercarpet\":[{\"type\":\"scattercarpet\",\"marker\":{\"colorbar\":{\"outlinewidth\":0,\"ticks\":\"\"}}}],\"carpet\":[{\"aaxis\":{\"endlinecolor\":\"#2a3f5f\",\"gridcolor\":\"white\",\"linecolor\":\"white\",\"minorgridcolor\":\"white\",\"startlinecolor\":\"#2a3f5f\"},\"baxis\":{\"endlinecolor\":\"#2a3f5f\",\"gridcolor\":\"white\",\"linecolor\":\"white\",\"minorgridcolor\":\"white\",\"startlinecolor\":\"#2a3f5f\"},\"type\":\"carpet\"}],\"table\":[{\"cells\":{\"fill\":{\"color\":\"#EBF0F8\"},\"line\":{\"color\":\"white\"}},\"header\":{\"fill\":{\"color\":\"#C8D4E3\"},\"line\":{\"color\":\"white\"}},\"type\":\"table\"}],\"barpolar\":[{\"marker\":{\"line\":{\"color\":\"#E5ECF6\",\"width\":0.5},\"pattern\":{\"fillmode\":\"overlay\",\"size\":10,\"solidity\":0.2}},\"type\":\"barpolar\"}],\"pie\":[{\"automargin\":true,\"type\":\"pie\"}]},\"layout\":{\"autotypenumbers\":\"strict\",\"colorway\":[\"#636efa\",\"#EF553B\",\"#00cc96\",\"#ab63fa\",\"#FFA15A\",\"#19d3f3\",\"#FF6692\",\"#B6E880\",\"#FF97FF\",\"#FECB52\"],\"font\":{\"color\":\"#2a3f5f\"},\"hovermode\":\"closest\",\"hoverlabel\":{\"align\":\"left\"},\"paper_bgcolor\":\"white\",\"plot_bgcolor\":\"#E5ECF6\",\"polar\":{\"bgcolor\":\"#E5ECF6\",\"angularaxis\":{\"gridcolor\":\"white\",\"linecolor\":\"white\",\"ticks\":\"\"},\"radialaxis\":{\"gridcolor\":\"white\",\"linecolor\":\"white\",\"ticks\":\"\"}},\"ternary\":{\"bgcolor\":\"#E5ECF6\",\"aaxis\":{\"gridcolor\":\"white\",\"linecolor\":\"white\",\"ticks\":\"\"},\"baxis\":{\"gridcolor\":\"white\",\"linecolor\":\"white\",\"ticks\":\"\"},\"caxis\":{\"gridcolor\":\"white\",\"linecolor\":\"white\",\"ticks\":\"\"}},\"coloraxis\":{\"colorbar\":{\"outlinewidth\":0,\"ticks\":\"\"}},\"colorscale\":{\"sequential\":[[0.0,\"#0d0887\"],[0.1111111111111111,\"#46039f\"],[0.2222222222222222,\"#7201a8\"],[0.3333333333333333,\"#9c179e\"],[0.4444444444444444,\"#bd3786\"],[0.5555555555555556,\"#d8576b\"],[0.6666666666666666,\"#ed7953\"],[0.7777777777777778,\"#fb9f3a\"],[0.8888888888888888,\"#fdca26\"],[1.0,\"#f0f921\"]],\"sequentialminus\":[[0.0,\"#0d0887\"],[0.1111111111111111,\"#46039f\"],[0.2222222222222222,\"#7201a8\"],[0.3333333333333333,\"#9c179e\"],[0.4444444444444444,\"#bd3786\"],[0.5555555555555556,\"#d8576b\"],[0.6666666666666666,\"#ed7953\"],[0.7777777777777778,\"#fb9f3a\"],[0.8888888888888888,\"#fdca26\"],[1.0,\"#f0f921\"]],\"diverging\":[[0,\"#8e0152\"],[0.1,\"#c51b7d\"],[0.2,\"#de77ae\"],[0.3,\"#f1b6da\"],[0.4,\"#fde0ef\"],[0.5,\"#f7f7f7\"],[0.6,\"#e6f5d0\"],[0.7,\"#b8e186\"],[0.8,\"#7fbc41\"],[0.9,\"#4d9221\"],[1,\"#276419\"]]},\"xaxis\":{\"gridcolor\":\"white\",\"linecolor\":\"white\",\"ticks\":\"\",\"title\":{\"standoff\":15},\"zerolinecolor\":\"white\",\"automargin\":true,\"zerolinewidth\":2},\"yaxis\":{\"gridcolor\":\"white\",\"linecolor\":\"white\",\"ticks\":\"\",\"title\":{\"standoff\":15},\"zerolinecolor\":\"white\",\"automargin\":true,\"zerolinewidth\":2},\"scene\":{\"xaxis\":{\"backgroundcolor\":\"#E5ECF6\",\"gridcolor\":\"white\",\"linecolor\":\"white\",\"showbackground\":true,\"ticks\":\"\",\"zerolinecolor\":\"white\",\"gridwidth\":2},\"yaxis\":{\"backgroundcolor\":\"#E5ECF6\",\"gridcolor\":\"white\",\"linecolor\":\"white\",\"showbackground\":true,\"ticks\":\"\",\"zerolinecolor\":\"white\",\"gridwidth\":2},\"zaxis\":{\"backgroundcolor\":\"#E5ECF6\",\"gridcolor\":\"white\",\"linecolor\":\"white\",\"showbackground\":true,\"ticks\":\"\",\"zerolinecolor\":\"white\",\"gridwidth\":2}},\"shapedefaults\":{\"line\":{\"color\":\"#2a3f5f\"}},\"annotationdefaults\":{\"arrowcolor\":\"#2a3f5f\",\"arrowhead\":0,\"arrowwidth\":1},\"geo\":{\"bgcolor\":\"white\",\"landcolor\":\"#E5ECF6\",\"subunitcolor\":\"white\",\"showland\":true,\"showlakes\":true,\"lakecolor\":\"white\"},\"title\":{\"x\":0.05},\"mapbox\":{\"style\":\"light\"}}},\"polar\":{\"domain\":{\"x\":[0.0,0.45],\"y\":[0.575,1.0]}},\"polar2\":{\"domain\":{\"x\":[0.55,1.0],\"y\":[0.575,1.0]}},\"polar3\":{\"domain\":{\"x\":[0.0,0.45],\"y\":[0.0,0.425]}},\"polar4\":{\"domain\":{\"x\":[0.55,1.0],\"y\":[0.0,0.425]}},\"annotations\":[{\"font\":{\"size\":16},\"showarrow\":false,\"text\":\"FAD\",\"x\":0.225,\"xanchor\":\"center\",\"xref\":\"paper\",\"y\":1.0,\"yanchor\":\"bottom\",\"yref\":\"paper\"},{\"font\":{\"size\":16},\"showarrow\":false,\"text\":\"FAD_CLAP\",\"x\":0.775,\"xanchor\":\"center\",\"xref\":\"paper\",\"y\":1.0,\"yanchor\":\"bottom\",\"yref\":\"paper\"},{\"font\":{\"size\":16},\"showarrow\":false,\"text\":\"CLAP\",\"x\":0.225,\"xanchor\":\"center\",\"xref\":\"paper\",\"y\":0.425,\"yanchor\":\"bottom\",\"yref\":\"paper\"}],\"legend\":{\"font\":{\"size\":14},\"orientation\":\"h\",\"yanchor\":\"bottom\",\"y\":-0.2,\"xanchor\":\"center\",\"x\":0.5,\"bgcolor\":\"rgba(255,255,255,0.8)\"},\"showlegend\":true,\"height\":1000,\"width\":800},                        {\"responsive\": true}                    ).then(function(){\n",
       "                            \n",
       "var gd = document.getElementById('9befea49-9aeb-405a-aaaa-f130bb43c981');\n",
       "var x = new MutationObserver(function (mutations, observer) {{\n",
       "        var display = window.getComputedStyle(gd).display;\n",
       "        if (!display || display === 'none') {{\n",
       "            console.log([gd, 'removed!']);\n",
       "            Plotly.purge(gd);\n",
       "            observer.disconnect();\n",
       "        }}\n",
       "}});\n",
       "\n",
       "// Listen for the removal of the full notebook cells\n",
       "var notebookContainer = gd.closest('#notebook-container');\n",
       "if (notebookContainer) {{\n",
       "    x.observe(notebookContainer, {childList: true});\n",
       "}}\n",
       "\n",
       "// Listen for the clearing of the current output cell\n",
       "var outputEl = gd.closest('.output');\n",
       "if (outputEl) {{\n",
       "    x.observe(outputEl, {childList: true});\n",
       "}}\n",
       "\n",
       "                        })                };                });            </script>        </div>"
      ]
     },
     "metadata": {},
     "output_type": "display_data"
    }
   ],
   "source": [
    "spider_df = load_metrics(OUTPUT_PATH('comparison', 'ti-musicgen-clean.json'))\n",
    "metrics = ['fad','fad_clap', 'clap']\n",
    "fig = make_subplots(\n",
    "    rows=2, \n",
    "    cols=2, \n",
    "    specs=[\n",
    "        [{'type': 'polar'}, {'type': 'polar'}],\n",
    "        [{'type': 'polar'}, {'type': 'polar'}]\n",
    "    ],\n",
    "    vertical_spacing=0.15,\n",
    "    subplot_titles=[f\"{m.upper()}\" for m in metrics] + ['']\n",
    ")\n",
    "def get_position(i):\n",
    "    return (i // 2 + 1, i % 2 + 1)\n",
    "for i, metric in enumerate(metrics):\n",
    "    r, c = get_position(i)\n",
    "    show_legend_flag = (i == 0)\n",
    "    fig.add_trace(\n",
    "        go.Scatterpolar(\n",
    "            r=spider_df[f\"{metric}_ti\"],\n",
    "            theta=spider_df.index,\n",
    "            fill='toself',\n",
    "            name=f\"Inwersja Tekstowa + MusicGen\",      # Legend name\n",
    "            legendgroup=\"Inwersja Tekstowa + MusicGen\",\n",
    "            showlegend=show_legend_flag,\n",
    "            marker_color='blue'\n",
    "\n",
    "        ),\n",
    "        row=r, col=c\n",
    "    )\n",
    "    fig.add_trace(\n",
    "        go.Scatterpolar(\n",
    "            r=spider_df[f\"{metric}_other\"],\n",
    "            theta=spider_df.index,\n",
    "            fill='toself',\n",
    "            name=f\"MusicGen\",   # Legend name\n",
    "            legendgroup=\"MusicGen\",\n",
    "            showlegend=show_legend_flag,\n",
    "            marker_color='red'\n",
    "        ),\n",
    "        row=r, col=c\n",
    "    )\n",
    "\n",
    "fig.update_layout(\n",
    "    # title=\"All Spider Plots in One Figure\",\n",
    "    showlegend=True,      # Show one combined legend\n",
    "    height=1000, width=800,\n",
    "    legend=dict(\n",
    "        orientation=\"h\",      # horizontal legend\n",
    "        yanchor=\"bottom\",     # anchor the legend to the bottom\n",
    "        y=-0.2,               # move it below the plot area\n",
    "        xanchor=\"center\",     # anchor it to the center of the figure\n",
    "        x=0.5,                # place it at the horizontal center\n",
    "        font=dict(size=14),   # increase legend text size\n",
    "        bgcolor=\"rgba(255,255,255,0.8)\"  # optional: add a white, semi-transparent background\n",
    "    ),\n",
    "    # margin=dict(b=100) \n",
    ")\n",
    "fig.write_image(OUTPUT_PATH('comparison', 'spider.png'))\n",
    "fig.show()"
   ]
  },
  {
   "cell_type": "code",
   "execution_count": 59,
   "metadata": {},
   "outputs": [],
   "source": [
    "with open(RAW_PATH('run_stats', 'stats.json'), 'r') as fh:\n",
    "    data = json.load(fh)\n",
    "\n",
    "def filter_by_config(query: dict[str, any]):\n",
    "    stats = {}\n",
    "    for k, v in data.items():\n",
    "        if not all(v['params'][q_k] == q_v for q_k, q_v in query.items()):\n",
    "            continue\n",
    "        stats[k] = v\n",
    "    return stats\n",
    "filtered_data = filter_by_config({'tokens_num': 5})"
   ]
  },
  {
   "cell_type": "code",
   "execution_count": 68,
   "metadata": {},
   "outputs": [
    {
     "data": {
      "text/html": [
       "<div>\n",
       "<style scoped>\n",
       "    .dataframe tbody tr th:only-of-type {\n",
       "        vertical-align: middle;\n",
       "    }\n",
       "\n",
       "    .dataframe tbody tr th {\n",
       "        vertical-align: top;\n",
       "    }\n",
       "\n",
       "    .dataframe thead th {\n",
       "        text-align: right;\n",
       "    }\n",
       "</style>\n",
       "<table border=\"1\" class=\"dataframe\">\n",
       "  <thead>\n",
       "    <tr style=\"text-align: right;\">\n",
       "      <th></th>\n",
       "      <th>fad_choir_mean</th>\n",
       "      <th>fad_choir_std</th>\n",
       "      <th>fad_piano_mean</th>\n",
       "      <th>fad_piano_std</th>\n",
       "      <th>fad_two-steps_mean</th>\n",
       "      <th>fad_two-steps_std</th>\n",
       "      <th>fad_8bit_mean</th>\n",
       "      <th>fad_8bit_std</th>\n",
       "      <th>fad_b-minor-rock_mean</th>\n",
       "      <th>fad_b-minor-rock_std</th>\n",
       "      <th>...</th>\n",
       "      <th>fad_pirates_mean</th>\n",
       "      <th>fad_pirates_std</th>\n",
       "      <th>fad_metal-solos_mean</th>\n",
       "      <th>fad_metal-solos_std</th>\n",
       "      <th>fad_saxophone-chillout_mean</th>\n",
       "      <th>fad_saxophone-chillout_std</th>\n",
       "      <th>fad_8bit-slow_mean</th>\n",
       "      <th>fad_8bit-slow_std</th>\n",
       "      <th>fad_avg_mean</th>\n",
       "      <th>fad_avg_std</th>\n",
       "    </tr>\n",
       "  </thead>\n",
       "  <tbody>\n",
       "    <tr>\n",
       "      <th>5</th>\n",
       "      <td>4.710213</td>\n",
       "      <td>0.365610</td>\n",
       "      <td>3.801444</td>\n",
       "      <td>0.508196</td>\n",
       "      <td>3.923909</td>\n",
       "      <td>0.736688</td>\n",
       "      <td>8.697683</td>\n",
       "      <td>0.841894</td>\n",
       "      <td>1.542337</td>\n",
       "      <td>0.452974</td>\n",
       "      <td>...</td>\n",
       "      <td>2.871460</td>\n",
       "      <td>0.536448</td>\n",
       "      <td>4.036265</td>\n",
       "      <td>1.222431</td>\n",
       "      <td>2.550864</td>\n",
       "      <td>0.519466</td>\n",
       "      <td>5.463827</td>\n",
       "      <td>0.909338</td>\n",
       "      <td>4.097182</td>\n",
       "      <td>0.310381</td>\n",
       "    </tr>\n",
       "    <tr>\n",
       "      <th>10</th>\n",
       "      <td>3.919329</td>\n",
       "      <td>0.265587</td>\n",
       "      <td>2.877155</td>\n",
       "      <td>0.489414</td>\n",
       "      <td>3.466273</td>\n",
       "      <td>0.619526</td>\n",
       "      <td>7.121143</td>\n",
       "      <td>1.511341</td>\n",
       "      <td>1.257988</td>\n",
       "      <td>0.133727</td>\n",
       "      <td>...</td>\n",
       "      <td>2.314139</td>\n",
       "      <td>0.210021</td>\n",
       "      <td>3.434294</td>\n",
       "      <td>0.554083</td>\n",
       "      <td>1.643668</td>\n",
       "      <td>0.528710</td>\n",
       "      <td>5.221861</td>\n",
       "      <td>0.557420</td>\n",
       "      <td>3.476175</td>\n",
       "      <td>0.263368</td>\n",
       "    </tr>\n",
       "    <tr>\n",
       "      <th>20</th>\n",
       "      <td>3.430175</td>\n",
       "      <td>0.353355</td>\n",
       "      <td>2.575861</td>\n",
       "      <td>0.419546</td>\n",
       "      <td>3.037685</td>\n",
       "      <td>0.436505</td>\n",
       "      <td>6.299074</td>\n",
       "      <td>1.225706</td>\n",
       "      <td>1.262737</td>\n",
       "      <td>0.412945</td>\n",
       "      <td>...</td>\n",
       "      <td>3.004607</td>\n",
       "      <td>0.367701</td>\n",
       "      <td>2.692576</td>\n",
       "      <td>0.590241</td>\n",
       "      <td>2.281065</td>\n",
       "      <td>0.973261</td>\n",
       "      <td>4.212825</td>\n",
       "      <td>0.750629</td>\n",
       "      <td>3.391981</td>\n",
       "      <td>0.298357</td>\n",
       "    </tr>\n",
       "  </tbody>\n",
       "</table>\n",
       "<p>3 rows × 26 columns</p>\n",
       "</div>"
      ],
      "text/plain": [
       "    fad_choir_mean  fad_choir_std  fad_piano_mean  fad_piano_std  \\\n",
       "5         4.710213       0.365610        3.801444       0.508196   \n",
       "10        3.919329       0.265587        2.877155       0.489414   \n",
       "20        3.430175       0.353355        2.575861       0.419546   \n",
       "\n",
       "    fad_two-steps_mean  fad_two-steps_std  fad_8bit_mean  fad_8bit_std  \\\n",
       "5             3.923909           0.736688       8.697683      0.841894   \n",
       "10            3.466273           0.619526       7.121143      1.511341   \n",
       "20            3.037685           0.436505       6.299074      1.225706   \n",
       "\n",
       "    fad_b-minor-rock_mean  fad_b-minor-rock_std  ...  fad_pirates_mean  \\\n",
       "5                1.542337              0.452974  ...          2.871460   \n",
       "10               1.257988              0.133727  ...          2.314139   \n",
       "20               1.262737              0.412945  ...          3.004607   \n",
       "\n",
       "    fad_pirates_std  fad_metal-solos_mean  fad_metal-solos_std  \\\n",
       "5          0.536448              4.036265             1.222431   \n",
       "10         0.210021              3.434294             0.554083   \n",
       "20         0.367701              2.692576             0.590241   \n",
       "\n",
       "    fad_saxophone-chillout_mean  fad_saxophone-chillout_std  \\\n",
       "5                      2.550864                    0.519466   \n",
       "10                     1.643668                    0.528710   \n",
       "20                     2.281065                    0.973261   \n",
       "\n",
       "    fad_8bit-slow_mean  fad_8bit-slow_std  fad_avg_mean  fad_avg_std  \n",
       "5             5.463827           0.909338      4.097182     0.310381  \n",
       "10            5.221861           0.557420      3.476175     0.263368  \n",
       "20            4.212825           0.750629      3.391981     0.298357  \n",
       "\n",
       "[3 rows x 26 columns]"
      ]
     },
     "execution_count": 68,
     "metadata": {},
     "output_type": "execute_result"
    }
   ],
   "source": [
    "def flatten_stats(data: dict):\n",
    "    return {k: v['stats'] for k,v in data.items()}\n",
    "\n",
    "def get_min_stats(data: dict):\n",
    "    stats = {}\n",
    "    for run_id, run_data in data.items():\n",
    "        for stat_name, stat_val in run_data['stats'].items():\n",
    "            stat_data = stats.get(stat_name, [])\n",
    "            stat_data.append(np.min(stat_val))\n",
    "            stats[stat_name] = stat_data\n",
    "    res = {}\n",
    "    for stat_name, stat_val in stats.items():\n",
    "        res.update({\n",
    "            f'{stat_name}_mean': np.mean(stat_val),\n",
    "            f'{stat_name}_std': np.std(stat_val),\n",
    "        })\n",
    "    return res\n"
   ]
  },
  {
   "cell_type": "code",
   "execution_count": 85,
   "metadata": {},
   "outputs": [],
   "source": [
    "stats_df = pd.DataFrame([\n",
    "    get_min_stats(filter_by_config({'tokens_num': x}))\n",
    "    for x in [5, 10, 20]\n",
    "])\n",
    "stats_columns = [col.replace('_mean', '').replace('fad_', '') for col in stats_df.columns if '_mean' in col]\n",
    "stats_latex_df = pd.DataFrame(index=stats_columns, columns=['\\# tokenów=5', '\\# tokenów=10', '\\# tokenów=20'])\n",
    "\n",
    "for i, tokens in enumerate([5, 10, 20]):\n",
    "    for col in stats_columns:\n",
    "        mean = stats_df.loc[i, f\"fad_{col}_mean\"]\n",
    "        std = stats_df.loc[i, f\"fad_{col}_std\"]\n",
    "        stats_latex_df.loc[col, f'\\# tokenów={tokens}'] = f\"{mean:.2f} $\\pm$ {std:.2f}\"\n",
    "with open(OUTPUT_PATH('visualization', \"sweep_runs_table.tex\"), \"w\") as f:\n",
    "    f.write(stats_latex_df.to_latex(index=True,            # Keep the row labels (the category names)\n",
    "        escape=False,          # Important to allow LaTeX syntax in the column names\n",
    "        float_format=\"%.3f\",\n",
    "        caption=\"FAD ze względu na ilość tokenów\",  # Example caption\n",
    "        label=\"tab:fad_by_token_num\" )\n",
    "    )"
   ]
  }
 ],
 "metadata": {
  "kernelspec": {
   "display_name": "musicgen-ufgTm-Qc-py3.10",
   "language": "python",
   "name": "python3"
  },
  "language_info": {
   "codemirror_mode": {
    "name": "ipython",
    "version": 3
   },
   "file_extension": ".py",
   "mimetype": "text/x-python",
   "name": "python",
   "nbconvert_exporter": "python",
   "pygments_lexer": "ipython3",
   "version": "3.10.12"
  }
 },
 "nbformat": 4,
 "nbformat_minor": 2
}
